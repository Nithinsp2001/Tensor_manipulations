{
  "nbformat": 4,
  "nbformat_minor": 0,
  "metadata": {
    "colab": {
      "provenance": [],
      "authorship_tag": "ABX9TyMeE0fJduDfwuLr7mUVhvHQ",
      "include_colab_link": true
    },
    "kernelspec": {
      "name": "python3",
      "display_name": "Python 3"
    },
    "language_info": {
      "name": "python"
    }
  },
  "cells": [
    {
      "cell_type": "markdown",
      "metadata": {
        "id": "view-in-github",
        "colab_type": "text"
      },
      "source": [
        "<a href=\"https://colab.research.google.com/github/Nithinnsp2001/Tensor_Manupulations/blob/main/Question%20and%20Answers.ipynb\" target=\"_parent\"><img src=\"https://colab.research.google.com/assets/colab-badge.svg\" alt=\"Open In Colab\"/></a>"
      ]
    },
    {
      "cell_type": "code",
      "source": [
        "1. What patterns do you observe in the training and validation accuracy curves?\n",
"\t*Observing the training and validation accuracy curves during model training can reveal several patterns:\n",
"\t*Converging Curves: If both training and validation accuracy increase and plateau, it indicates the model is learning well\n",.
"\t*Diverging Curves: If the training accuracy increases while the validation accuracy stagnates or decreases, it could indicate overfitting, where the model performs well on the training data but poorly on unseen data.\n",
"\t*Flat Curves: If both training and validation accuracy remain flat or very low, it may suggest underfitting, potentially due to an insufficient model architecture or poor feature representation.\n",
"\t*Oscillations: Large oscillations in the curves might indicate an inappropriate learning rate or noisy data.\n",
"\n",
"\n",
"2. How can you use TensorBoard to detect overfitting\n",
    "\t*  TensorBoard provides tools to visualize and monitor model training, making it easier to detect overfitting:\n",
"\t*Accuracy/ Loss Graphs: Compare training and validation accuracy (or loss). Overfitting is indicated when training accuracy continues to improve while validation accuracy declines or plateaus.\n",
"\t*Histograms of Weights and Biases: Sudden large changes or instability in weights can hint at overfitting.\n",
"\t*Learning Rate Visualization: If the learning rate remains constant and validation loss increases, it might contribute to overfitting.\n",
"\t*Distribution Analysis: Use TensorBoard to monitor the distribution of activations or gradients. Overfitting can manifest as extreme values or lack of diversity in these distributions.\n",
"\n",
"\n",
"3. What happens when you increase the number of epochs?\n",
"\t*Increasing the number of epochs affects model performance depending on the dataset and the model:\n",
"\t*Improved Training: Initially, the model learns better patterns, increasing both training and validation accuracy.\n",
"\t*Overfitting Risk: Beyond a certain point, the model may memorize the training data, leading to a divergence where training accuracy improves, but validation accuracy decreases.\n",
"\t*Training Time: Increasing epochs also increases training time and computational cost, which may not always lead to better results.\n",
"\t*Plateauing: Accuracy or loss may plateau, indicating that the model has learned as much as it can from the data.\n",
"\n",
"\n",
"\t*Strategies to Handle Overfitting with Increased Epochs:\n",
"\t*Use early stopping to halt training when validation accuracy stops improving.\n",
"\t*Apply regularization techniques like dropout, L2 regularization, or data augmentation.\n",
"\t*Monitor metrics using TensorBoard or similar tools.\n",
],
      "metadata": {
        "id": "OOJd8Y8vfNQO"
      },
      "execution_count": null,
      "outputs": []
    }
  ]
}
     
